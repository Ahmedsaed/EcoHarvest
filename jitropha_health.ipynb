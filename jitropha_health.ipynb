{
 "cells": [
  {
   "cell_type": "code",
   "execution_count": 1,
   "metadata": {},
   "outputs": [
    {
     "name": "stderr",
     "output_type": "stream",
     "text": [
      "2023-12-07 17:31:26.421214: E external/local_xla/xla/stream_executor/cuda/cuda_dnn.cc:9261] Unable to register cuDNN factory: Attempting to register factory for plugin cuDNN when one has already been registered\n",
      "2023-12-07 17:31:26.421256: E external/local_xla/xla/stream_executor/cuda/cuda_fft.cc:607] Unable to register cuFFT factory: Attempting to register factory for plugin cuFFT when one has already been registered\n",
      "2023-12-07 17:31:26.422393: E external/local_xla/xla/stream_executor/cuda/cuda_blas.cc:1515] Unable to register cuBLAS factory: Attempting to register factory for plugin cuBLAS when one has already been registered\n",
      "2023-12-07 17:31:27.461782: W tensorflow/compiler/tf2tensorrt/utils/py_utils.cc:38] TF-TRT Warning: Could not find TensorRT\n"
     ]
    }
   ],
   "source": [
    "import tensorflow as tf\n",
    "from tensorflow.keras.preprocessing.image import ImageDataGenerator\n",
    "from tensorflow.keras.applications import MobileNetV2\n",
    "from tensorflow.keras import layers\n",
    "from tensorflow.keras import Model\n",
    "from tensorflow.keras.callbacks import ModelCheckpoint\n"
   ]
  },
  {
   "cell_type": "code",
   "execution_count": 2,
   "metadata": {},
   "outputs": [],
   "source": [
    "# Set the input size based on the pre-trained model you choose\n",
    "input_size = (224, 224)\n",
    "\n",
    "# Define data directories\n",
    "train_dir = './jitropha/leaf'\n",
    "\n",
    "# Define the batch size\n",
    "batch_size = 32\n"
   ]
  },
  {
   "cell_type": "code",
   "execution_count": 3,
   "metadata": {},
   "outputs": [],
   "source": [
    "# Use data augmentation for training set\n",
    "train_datagen = ImageDataGenerator(\n",
    "    rescale=1./255,\n",
    "    shear_range=0.2,\n",
    "    rotation_range=20,\n",
    "    horizontal_flip=True,\n",
    "    validation_split=0.2\n",
    ")\n"
   ]
  },
  {
   "cell_type": "code",
   "execution_count": 4,
   "metadata": {},
   "outputs": [
    {
     "name": "stdout",
     "output_type": "stream",
     "text": [
      "Found 207 images belonging to 2 classes.\n",
      "Found 50 images belonging to 2 classes.\n"
     ]
    }
   ],
   "source": [
    "train_generator = train_datagen.flow_from_directory(\n",
    "    train_dir,\n",
    "    target_size=input_size,\n",
    "    batch_size=batch_size,\n",
    "    class_mode='binary',\n",
    "    subset='training'\n",
    ")\n",
    "\n",
    "validation_generator = train_datagen.flow_from_directory(\n",
    "    train_dir,\n",
    "    target_size=input_size,\n",
    "    batch_size=batch_size,\n",
    "    class_mode='binary',\n",
    "    subset='validation'\n",
    ")\n"
   ]
  },
  {
   "cell_type": "code",
   "execution_count": 5,
   "metadata": {},
   "outputs": [],
   "source": [
    "base_model = MobileNetV2(input_shape=(224, 224, 3), include_top=False, weights='imagenet')\n",
    "\n",
    "# Freeze the pre-trained layers\n",
    "for layer in base_model.layers:\n",
    "    layer.trainable = False\n",
    "\n",
    "# Create the model by adding custom classification layers\n",
    "x = layers.GlobalAveragePooling2D()(base_model.output)\n",
    "x = layers.Dense(128, activation='relu')(x)\n",
    "x = layers.Dropout(0.2)(x)\n",
    "x = layers.Dense(1, activation='sigmoid')(x)\n"
   ]
  },
  {
   "cell_type": "code",
   "execution_count": 16,
   "metadata": {},
   "outputs": [],
   "source": [
    "model = Model(base_model.input, x)\n"
   ]
  },
  {
   "cell_type": "code",
   "execution_count": 17,
   "metadata": {},
   "outputs": [],
   "source": [
    "# Compile the model\n",
    "model.compile(optimizer=tf.keras.optimizers.Adam(learning_rate=0.0001),\n",
    "              loss='binary_crossentropy',\n",
    "              metrics=['accuracy'])\n"
   ]
  },
  {
   "cell_type": "code",
   "execution_count": 18,
   "metadata": {},
   "outputs": [],
   "source": [
    "checkpoint_callback = ModelCheckpoint(\n",
    "    filepath='./Training/health_model/best_model.keras',    # Path to save the model\n",
    "    monitor='val_accuracy',      # Metric to monitor for saving the best model\n",
    "    save_best_only=True,         # Save only the best model (overrides previous best)\n",
    "    save_weights_only=False,     # Save the entire model, not just the weights\n",
    "    mode='max',                  # 'max' or 'min' depending on the monitored metric\n",
    "    verbose=1                    # Display information about the saving process\n",
    ")\n"
   ]
  },
  {
   "cell_type": "code",
   "execution_count": 19,
   "metadata": {},
   "outputs": [
    {
     "name": "stdout",
     "output_type": "stream",
     "text": [
      "Epoch 1/30\n",
      "6/6 [==============================] - ETA: 0s - loss: 0.3237 - accuracy: 0.8743\n",
      "Epoch 1: val_accuracy improved from -inf to 0.87500, saving model to ./Training/health_model/best_model.keras\n",
      "6/6 [==============================] - 39s 6s/step - loss: 0.3237 - accuracy: 0.8743 - val_loss: 0.3935 - val_accuracy: 0.8750\n",
      "Epoch 2/30\n",
      "6/6 [==============================] - ETA: 0s - loss: 0.3270 - accuracy: 0.8686\n",
      "Epoch 2: val_accuracy did not improve from 0.87500\n",
      "6/6 [==============================] - 30s 5s/step - loss: 0.3270 - accuracy: 0.8686 - val_loss: 0.3755 - val_accuracy: 0.8750\n",
      "Epoch 3/30\n",
      "6/6 [==============================] - ETA: 0s - loss: 0.3105 - accuracy: 0.8800\n",
      "Epoch 3: val_accuracy improved from 0.87500 to 0.90625, saving model to ./Training/health_model/best_model.keras\n",
      "6/6 [==============================] - 33s 6s/step - loss: 0.3105 - accuracy: 0.8800 - val_loss: 0.3340 - val_accuracy: 0.9062\n",
      "Epoch 4/30\n",
      "6/6 [==============================] - ETA: 0s - loss: 0.3412 - accuracy: 0.8698\n",
      "Epoch 4: val_accuracy improved from 0.90625 to 0.96875, saving model to ./Training/health_model/best_model.keras\n",
      "6/6 [==============================] - 32s 5s/step - loss: 0.3412 - accuracy: 0.8698 - val_loss: 0.2663 - val_accuracy: 0.9688\n",
      "Epoch 5/30\n",
      "6/6 [==============================] - ETA: 0s - loss: 0.3280 - accuracy: 0.8629\n",
      "Epoch 5: val_accuracy did not improve from 0.96875\n",
      "6/6 [==============================] - 28s 5s/step - loss: 0.3280 - accuracy: 0.8629 - val_loss: 0.3288 - val_accuracy: 0.9062\n",
      "Epoch 6/30\n",
      "6/6 [==============================] - ETA: 0s - loss: 0.2999 - accuracy: 0.8802\n",
      "Epoch 6: val_accuracy did not improve from 0.96875\n",
      "6/6 [==============================] - 34s 6s/step - loss: 0.2999 - accuracy: 0.8802 - val_loss: 0.2879 - val_accuracy: 0.9062\n",
      "Epoch 7/30\n",
      "6/6 [==============================] - ETA: 0s - loss: 0.3077 - accuracy: 0.8743\n",
      "Epoch 7: val_accuracy did not improve from 0.96875\n",
      "6/6 [==============================] - 30s 5s/step - loss: 0.3077 - accuracy: 0.8743 - val_loss: 0.3900 - val_accuracy: 0.8750\n",
      "Epoch 8/30\n",
      "6/6 [==============================] - ETA: 0s - loss: 0.3304 - accuracy: 0.8743\n",
      "Epoch 8: val_accuracy did not improve from 0.96875\n",
      "6/6 [==============================] - 30s 5s/step - loss: 0.3304 - accuracy: 0.8743 - val_loss: 0.3543 - val_accuracy: 0.8750\n",
      "Epoch 9/30\n",
      "6/6 [==============================] - ETA: 0s - loss: 0.3134 - accuracy: 0.8857\n",
      "Epoch 9: val_accuracy did not improve from 0.96875\n",
      "6/6 [==============================] - 31s 5s/step - loss: 0.3134 - accuracy: 0.8857 - val_loss: 0.3844 - val_accuracy: 0.8750\n",
      "Epoch 10/30\n",
      "6/6 [==============================] - ETA: 0s - loss: 0.3160 - accuracy: 0.8629\n",
      "Epoch 10: val_accuracy did not improve from 0.96875\n",
      "6/6 [==============================] - 29s 5s/step - loss: 0.3160 - accuracy: 0.8629 - val_loss: 0.3736 - val_accuracy: 0.8750\n",
      "Epoch 11/30\n",
      "6/6 [==============================] - ETA: 0s - loss: 0.3175 - accuracy: 0.8971\n",
      "Epoch 11: val_accuracy did not improve from 0.96875\n",
      "6/6 [==============================] - 31s 5s/step - loss: 0.3175 - accuracy: 0.8971 - val_loss: 0.4008 - val_accuracy: 0.8125\n",
      "Epoch 12/30\n",
      "6/6 [==============================] - ETA: 0s - loss: 0.2775 - accuracy: 0.9200\n",
      "Epoch 12: val_accuracy did not improve from 0.96875\n",
      "6/6 [==============================] - 29s 5s/step - loss: 0.2775 - accuracy: 0.9200 - val_loss: 0.3377 - val_accuracy: 0.9062\n",
      "Epoch 13/30\n",
      "6/6 [==============================] - ETA: 0s - loss: 0.2884 - accuracy: 0.9029\n",
      "Epoch 13: val_accuracy did not improve from 0.96875\n",
      "6/6 [==============================] - 27s 5s/step - loss: 0.2884 - accuracy: 0.9029 - val_loss: 0.3523 - val_accuracy: 0.8750\n",
      "Epoch 14/30\n",
      "6/6 [==============================] - ETA: 0s - loss: 0.3225 - accuracy: 0.8750\n",
      "Epoch 14: val_accuracy did not improve from 0.96875\n",
      "6/6 [==============================] - 30s 5s/step - loss: 0.3225 - accuracy: 0.8750 - val_loss: 0.3678 - val_accuracy: 0.9062\n",
      "Epoch 15/30\n",
      "6/6 [==============================] - ETA: 0s - loss: 0.2926 - accuracy: 0.9029\n",
      "Epoch 15: val_accuracy did not improve from 0.96875\n",
      "6/6 [==============================] - 30s 5s/step - loss: 0.2926 - accuracy: 0.9029 - val_loss: 0.3664 - val_accuracy: 0.9375\n",
      "Epoch 16/30\n",
      "6/6 [==============================] - ETA: 0s - loss: 0.2775 - accuracy: 0.9086\n",
      "Epoch 16: val_accuracy did not improve from 0.96875\n",
      "6/6 [==============================] - 31s 5s/step - loss: 0.2775 - accuracy: 0.9086 - val_loss: 0.2864 - val_accuracy: 0.9375\n",
      "Epoch 17/30\n",
      "6/6 [==============================] - ETA: 0s - loss: 0.2661 - accuracy: 0.9200\n",
      "Epoch 17: val_accuracy did not improve from 0.96875\n",
      "6/6 [==============================] - 30s 5s/step - loss: 0.2661 - accuracy: 0.9200 - val_loss: 0.4116 - val_accuracy: 0.8438\n",
      "Epoch 18/30\n",
      "6/6 [==============================] - ETA: 0s - loss: 0.3052 - accuracy: 0.8743\n",
      "Epoch 18: val_accuracy did not improve from 0.96875\n",
      "6/6 [==============================] - 33s 6s/step - loss: 0.3052 - accuracy: 0.8743 - val_loss: 0.2366 - val_accuracy: 0.9688\n",
      "Epoch 19/30\n",
      "6/6 [==============================] - ETA: 0s - loss: 0.2561 - accuracy: 0.9029\n",
      "Epoch 19: val_accuracy did not improve from 0.96875\n",
      "6/6 [==============================] - 30s 5s/step - loss: 0.2561 - accuracy: 0.9029 - val_loss: 0.2342 - val_accuracy: 0.9688\n",
      "Epoch 20/30\n",
      "6/6 [==============================] - ETA: 0s - loss: 0.2978 - accuracy: 0.8914\n",
      "Epoch 20: val_accuracy did not improve from 0.96875\n",
      "6/6 [==============================] - 32s 5s/step - loss: 0.2978 - accuracy: 0.8914 - val_loss: 0.2974 - val_accuracy: 0.9062\n",
      "Epoch 21/30\n",
      "6/6 [==============================] - ETA: 0s - loss: 0.2679 - accuracy: 0.9029\n",
      "Epoch 21: val_accuracy did not improve from 0.96875\n",
      "6/6 [==============================] - 29s 5s/step - loss: 0.2679 - accuracy: 0.9029 - val_loss: 0.3937 - val_accuracy: 0.8125\n",
      "Epoch 22/30\n",
      "6/6 [==============================] - ETA: 0s - loss: 0.2907 - accuracy: 0.8857\n",
      "Epoch 22: val_accuracy did not improve from 0.96875\n",
      "6/6 [==============================] - 28s 5s/step - loss: 0.2907 - accuracy: 0.8857 - val_loss: 0.3581 - val_accuracy: 0.8438\n",
      "Epoch 23/30\n",
      "6/6 [==============================] - ETA: 0s - loss: 0.2797 - accuracy: 0.9029\n",
      "Epoch 23: val_accuracy did not improve from 0.96875\n",
      "6/6 [==============================] - 29s 5s/step - loss: 0.2797 - accuracy: 0.9029 - val_loss: 0.3190 - val_accuracy: 0.9375\n",
      "Epoch 24/30\n",
      "6/6 [==============================] - ETA: 0s - loss: 0.2427 - accuracy: 0.9200\n",
      "Epoch 24: val_accuracy did not improve from 0.96875\n",
      "6/6 [==============================] - 32s 5s/step - loss: 0.2427 - accuracy: 0.9200 - val_loss: 0.4142 - val_accuracy: 0.8438\n",
      "Epoch 25/30\n",
      "6/6 [==============================] - ETA: 0s - loss: 0.2869 - accuracy: 0.9029\n",
      "Epoch 25: val_accuracy did not improve from 0.96875\n",
      "6/6 [==============================] - 31s 5s/step - loss: 0.2869 - accuracy: 0.9029 - val_loss: 0.3812 - val_accuracy: 0.8125\n",
      "Epoch 26/30\n",
      "6/6 [==============================] - ETA: 0s - loss: 0.2466 - accuracy: 0.9323\n",
      "Epoch 26: val_accuracy did not improve from 0.96875\n",
      "6/6 [==============================] - 32s 6s/step - loss: 0.2466 - accuracy: 0.9323 - val_loss: 0.2569 - val_accuracy: 0.9375\n",
      "Epoch 27/30\n",
      "6/6 [==============================] - ETA: 0s - loss: 0.2544 - accuracy: 0.9200\n",
      "Epoch 27: val_accuracy did not improve from 0.96875\n",
      "6/6 [==============================] - 30s 5s/step - loss: 0.2544 - accuracy: 0.9200 - val_loss: 0.4491 - val_accuracy: 0.8125\n",
      "Epoch 28/30\n",
      "6/6 [==============================] - ETA: 0s - loss: 0.2481 - accuracy: 0.9143\n",
      "Epoch 28: val_accuracy did not improve from 0.96875\n",
      "6/6 [==============================] - 36s 6s/step - loss: 0.2481 - accuracy: 0.9143 - val_loss: 0.4492 - val_accuracy: 0.7500\n",
      "Epoch 29/30\n",
      "6/6 [==============================] - ETA: 0s - loss: 0.2396 - accuracy: 0.9314\n",
      "Epoch 29: val_accuracy did not improve from 0.96875\n",
      "6/6 [==============================] - 30s 5s/step - loss: 0.2396 - accuracy: 0.9314 - val_loss: 0.3437 - val_accuracy: 0.9062\n",
      "Epoch 30/30\n",
      "6/6 [==============================] - ETA: 0s - loss: 0.2393 - accuracy: 0.9200\n",
      "Epoch 30: val_accuracy did not improve from 0.96875\n",
      "6/6 [==============================] - 29s 5s/step - loss: 0.2393 - accuracy: 0.9200 - val_loss: 0.3708 - val_accuracy: 0.9062\n"
     ]
    }
   ],
   "source": [
    "# Train the model\n",
    "history = model.fit(\n",
    "    train_generator,\n",
    "    steps_per_epoch=train_generator.samples // batch_size,\n",
    "    epochs=30,\n",
    "    validation_data=validation_generator,\n",
    "    validation_steps=validation_generator.samples // batch_size,\n",
    "    verbose=1,\n",
    "    callbacks=[checkpoint_callback]\n",
    ")\n"
   ]
  },
  {
   "cell_type": "code",
   "execution_count": 20,
   "metadata": {},
   "outputs": [
    {
     "name": "stdout",
     "output_type": "stream",
     "text": [
      "2/2 [==============================] - 7s 2s/step - loss: 0.3081 - accuracy: 0.9200\n"
     ]
    },
    {
     "data": {
      "text/plain": [
       "[0.30805930495262146, 0.9200000166893005]"
      ]
     },
     "execution_count": 20,
     "metadata": {},
     "output_type": "execute_result"
    }
   ],
   "source": [
    "model.evaluate(validation_generator, verbose=1)\n"
   ]
  }
 ],
 "metadata": {
  "kernelspec": {
   "display_name": "ml-env",
   "language": "python",
   "name": "python3"
  },
  "language_info": {
   "codemirror_mode": {
    "name": "ipython",
    "version": 3
   },
   "file_extension": ".py",
   "mimetype": "text/x-python",
   "name": "python",
   "nbconvert_exporter": "python",
   "pygments_lexer": "ipython3",
   "version": "3.11.6"
  }
 },
 "nbformat": 4,
 "nbformat_minor": 2
}
